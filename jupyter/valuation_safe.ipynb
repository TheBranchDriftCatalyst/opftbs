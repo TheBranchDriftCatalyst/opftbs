{
 "cells": [
  {
   "cell_type": "code",
   "execution_count": 13,
   "metadata": {},
   "outputs": [
    {
     "data": {
      "application/vnd.jupyter.widget-view+json": {
       "model_id": "e117f846c1164a67abc8749e8737fe79",
       "version_major": 2,
       "version_minor": 0
      },
      "text/plain": [
       "FloatText(value=1.0, description='Amount Raised ($M):', step=0.1, style=DescriptionStyle(description_width='in…"
      ]
     },
     "metadata": {},
     "output_type": "display_data"
    },
    {
     "data": {
      "application/vnd.jupyter.widget-view+json": {
       "model_id": "a757e2cfc17446f39f777bb8cfdb568a",
       "version_major": 2,
       "version_minor": 0
      },
      "text/plain": [
       "FloatText(value=15.0, description='Ownership Sold (%):', step=0.1, style=DescriptionStyle(description_width='i…"
      ]
     },
     "metadata": {},
     "output_type": "display_data"
    },
    {
     "data": {
      "application/vnd.jupyter.widget-view+json": {
       "model_id": "60a846e02cf340af8ae3abe0909e09dd",
       "version_major": 2,
       "version_minor": 0
      },
      "text/plain": [
       "Output()"
      ]
     },
     "metadata": {},
     "output_type": "display_data"
    }
   ],
   "source": [
    "import ipywidgets as widgets\n",
    "from IPython.display import display\n",
    "\n",
    "# Define input widgets\n",
    "amount_raised_widget = widgets.FloatText(\n",
    "    value=1.0,\n",
    "    description='Amount Raised ($M):',\n",
    "    step=0.1,\n",
    "    style={'description_width': 'initial'}\n",
    ")\n",
    "\n",
    "ownership_sold_widget = widgets.FloatText(\n",
    "    value=15.0,\n",
    "    description='Ownership Sold (%):',\n",
    "    step=0.1,\n",
    "    style={'description_width': 'initial'}\n",
    ")\n",
    "\n",
    "# Define output widget\n",
    "output_widget = widgets.Output()\n",
    "\n",
    "# Function to calculate post-money valuation cap and ownership sold based on amount raised\n",
    "def calculate_valuation(_):\n",
    "    with output_widget:\n",
    "        output_widget.clear_output()\n",
    "        amount_raised = amount_raised_widget.value\n",
    "        ownership_sold = ownership_sold_widget.value\n",
    "        post_money_valuation_cap = amount_raised / (ownership_sold / 100)\n",
    "        ownership_sold = (amount_raised  / post_money_valuation_cap) * 100\n",
    "        print(f'Post-Money Valuation Cap: ${post_money_valuation_cap:.2f}M')\n",
    "        print(f'Ownership Sold if Raised: {ownership_sold:.2f}%')\n",
    "\n",
    "# Link the input widgets to the calculation function\n",
    "amount_raised_widget.observe(calculate_valuation, names='value')\n",
    "ownership_sold_widget.observe(calculate_valuation, names='value')\n",
    "\n",
    "# Display the widgets and output\n",
    "display(amount_raised_widget, ownership_sold_widget, output_widget)\n",
    "\n",
    "# Perform initial calculation\n",
    "calculate_valuation(None)"
   ]
  }
 ],
 "metadata": {
  "kernelspec": {
   "display_name": "Python 3",
   "language": "python",
   "name": "python3"
  },
  "language_info": {
   "codemirror_mode": {
    "name": "ipython",
    "version": 3
   },
   "file_extension": ".py",
   "mimetype": "text/x-python",
   "name": "python",
   "nbconvert_exporter": "python",
   "pygments_lexer": "ipython3",
   "version": "3.12.2"
  }
 },
 "nbformat": 4,
 "nbformat_minor": 2
}
