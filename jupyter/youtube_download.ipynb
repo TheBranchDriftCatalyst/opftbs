{
 "cells": [
  {
   "cell_type": "code",
   "execution_count": 1,
   "metadata": {},
   "outputs": [],
   "source": [
    "%%capture\n",
    "\n",
    "%pip install pytubefix ipywidgets pytube"
   ]
  },
  {
   "cell_type": "code",
   "execution_count": 7,
   "metadata": {},
   "outputs": [
    {
     "data": {
      "application/vnd.jupyter.widget-view+json": {
       "model_id": "a01591ba3561462f8f0b92be19cfc19b",
       "version_major": 2,
       "version_minor": 0
      },
      "text/plain": [
       "Text(value='https://www.youtube.com/watch?v=nulK60b1lnA', description='YT Video ID:', placeholder='Enter YouTu…"
      ]
     },
     "metadata": {},
     "output_type": "display_data"
    },
    {
     "data": {
      "application/vnd.jupyter.widget-view+json": {
       "model_id": "71e83bc96a6a495494b18b44b7264adf",
       "version_major": 2,
       "version_minor": 0
      },
      "text/plain": [
       "Button(description='Download Audio', icon='download', style=ButtonStyle(), tooltip='Click to download audio')"
      ]
     },
     "metadata": {},
     "output_type": "display_data"
    },
    {
     "data": {
      "application/vnd.jupyter.widget-view+json": {
       "model_id": "7769a2acfe03496c812f1664fe67eea1",
       "version_major": 2,
       "version_minor": 0
      },
      "text/plain": [
       "IntProgress(value=0, description='Downloading:')"
      ]
     },
     "metadata": {},
     "output_type": "display_data"
    },
    {
     "data": {
      "application/vnd.jupyter.widget-view+json": {
       "model_id": "1f1068164c284f9b8ae94669be5e4960",
       "version_major": 2,
       "version_minor": 0
      },
      "text/plain": [
       "Output()"
      ]
     },
     "metadata": {},
     "output_type": "display_data"
    },
    {
     "name": "stdout",
     "output_type": "stream",
     "text": [
      "\"Worst Medical Scandal In History!\" Michael Shellenberger | The Winston Marshall Show #009\n"
     ]
    }
   ],
   "source": [
    "from pytube import YouTube\n",
    "from IPython.display import display, clear_output\n",
    "import ipywidgets as widgets\n",
    "\n",
    "progress_output = widgets.Output()\n",
    "progress_bar = widgets.IntProgress(\n",
    "    value=0,\n",
    "    min=0,\n",
    "    max=100,\n",
    "    step=1,\n",
    "    description=\"Downloading:\",\n",
    "    bar_style=\"\",  # 'success', 'info', 'warning', 'danger' or ''\n",
    "    orientation=\"horizontal\",\n",
    ")\n",
    "\n",
    "\n",
    "def on_progress(stream, chunk, bytes_remaining):\n",
    "    total_size = stream.filesize\n",
    "    bytes_downloaded = total_size - bytes_remaining\n",
    "    percentage_of_completion = int(bytes_downloaded / total_size * 100)\n",
    "    progress_bar.value = percentage_of_completion\n",
    "\n",
    "\n",
    "def download_audio(video_id):\n",
    "    yt = YouTube(video_id, on_progress_callback=on_progress)\n",
    "    print(yt.title)\n",
    "    ys = yt.streams.get_audio_only()\n",
    "    ys.download(\n",
    "        output_path=\"./data\", filename_prefix=\"audio_\", filename=f\"{yt.title}.mp3\"\n",
    "    )\n",
    "\n",
    "\n",
    "def on_button_clicked(b):\n",
    "    with progress_output:\n",
    "        clear_output()\n",
    "    progress_bar.value = 0  # Reset progress bar\n",
    "    download_audio(url_input.value)\n",
    "\n",
    "\n",
    "url_input = widgets.Text(\n",
    "    # value=\"https://www.youtube.com/watch?v=ibja8YSWaFw\",\n",
    "    value=\"https://www.youtube.com/watch?v=nulK60b1lnA\",\n",
    "    placeholder=\"Enter YouTube URL\",\n",
    "    description=\"YT Video ID:\",\n",
    "    disabled=False,\n",
    ")\n",
    "\n",
    "download_button = widgets.Button(\n",
    "    description=\"Download Audio\",\n",
    "    disabled=False,\n",
    "    button_style=\"\",\n",
    "    tooltip=\"Click to download audio\",\n",
    "    icon=\"download\",\n",
    ")\n",
    "\n",
    "download_button.on_click(on_button_clicked)\n",
    "\n",
    "display(url_input, download_button, progress_bar, progress_output)"
   ]
  }
 ],
 "metadata": {
  "kernelspec": {
   "display_name": "Python 3",
   "language": "python",
   "name": "python3"
  },
  "language_info": {
   "codemirror_mode": {
    "name": "ipython",
    "version": 3
   },
   "file_extension": ".py",
   "mimetype": "text/x-python",
   "name": "python",
   "nbconvert_exporter": "python",
   "pygments_lexer": "ipython3",
   "version": "3.11.0"
  }
 },
 "nbformat": 4,
 "nbformat_minor": 2
}
